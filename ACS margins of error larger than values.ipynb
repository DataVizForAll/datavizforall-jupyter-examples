{
 "cells": [
  {
   "cell_type": "markdown",
   "metadata": {},
   "source": [
    "# ACS estimates may have margins of errors larger than values themselves\n",
    "### Demonstration: Women aged 85+ in Connecticut towns, ACS 2018 5-year estimates, Table B01001, variable 049\n",
    "\n",
    "In the dataframe, new column `Ratio = Moe / Estimate`. Values of 1 mean that the margins of errors are equal to estimate values (eg 8 &pm; 8). There are 2 towns with such ratios. Ratios greater than 1 represent margins of errors higher than values themselves. There are 9 towns with such towns. To what extent can one rely on such estimates?"
   ]
  },
  {
   "cell_type": "code",
   "execution_count": 1,
   "metadata": {},
   "outputs": [],
   "source": [
    "import pandas as pd"
   ]
  },
  {
   "cell_type": "markdown",
   "metadata": {},
   "source": [
    "### Read variables from Census API"
   ]
  },
  {
   "cell_type": "code",
   "execution_count": 21,
   "metadata": {},
   "outputs": [],
   "source": [
    "females_85plus_raw = pd.read_json('https://api.census.gov/data/2018/acs/acs5?get=NAME,B01001_049E,B01001_049M&for=county%20subdivision:*&in=state:09')"
   ]
  },
  {
   "cell_type": "markdown",
   "metadata": {},
   "source": [
    "### Create a data frame with Census data"
   ]
  },
  {
   "cell_type": "code",
   "execution_count": 39,
   "metadata": {},
   "outputs": [
    {
     "data": {
      "text/html": [
       "<div>\n",
       "<style scoped>\n",
       "    .dataframe tbody tr th:only-of-type {\n",
       "        vertical-align: middle;\n",
       "    }\n",
       "\n",
       "    .dataframe tbody tr th {\n",
       "        vertical-align: top;\n",
       "    }\n",
       "\n",
       "    .dataframe thead th {\n",
       "        text-align: right;\n",
       "    }\n",
       "</style>\n",
       "<table border=\"1\" class=\"dataframe\">\n",
       "  <thead>\n",
       "    <tr style=\"text-align: right;\">\n",
       "      <th></th>\n",
       "      <th>Estimate</th>\n",
       "      <th>Moe</th>\n",
       "      <th>Ratio</th>\n",
       "    </tr>\n",
       "    <tr>\n",
       "      <th>Town</th>\n",
       "      <th></th>\n",
       "      <th></th>\n",
       "      <th></th>\n",
       "    </tr>\n",
       "  </thead>\n",
       "  <tbody>\n",
       "    <tr>\n",
       "      <th>Barkhamsted</th>\n",
       "      <td>0</td>\n",
       "      <td>12</td>\n",
       "      <td>inf</td>\n",
       "    </tr>\n",
       "    <tr>\n",
       "      <th>Sterling</th>\n",
       "      <td>29</td>\n",
       "      <td>46</td>\n",
       "      <td>1.586207</td>\n",
       "    </tr>\n",
       "    <tr>\n",
       "      <th>Willington</th>\n",
       "      <td>62</td>\n",
       "      <td>90</td>\n",
       "      <td>1.451613</td>\n",
       "    </tr>\n",
       "    <tr>\n",
       "      <th>Union</th>\n",
       "      <td>3</td>\n",
       "      <td>4</td>\n",
       "      <td>1.333333</td>\n",
       "    </tr>\n",
       "    <tr>\n",
       "      <th>Ellington</th>\n",
       "      <td>39</td>\n",
       "      <td>51</td>\n",
       "      <td>1.307692</td>\n",
       "    </tr>\n",
       "    <tr>\n",
       "      <th>Canaan</th>\n",
       "      <td>15</td>\n",
       "      <td>18</td>\n",
       "      <td>1.200000</td>\n",
       "    </tr>\n",
       "    <tr>\n",
       "      <th>Bethlehem</th>\n",
       "      <td>19</td>\n",
       "      <td>22</td>\n",
       "      <td>1.157895</td>\n",
       "    </tr>\n",
       "    <tr>\n",
       "      <th>Salem</th>\n",
       "      <td>18</td>\n",
       "      <td>20</td>\n",
       "      <td>1.111111</td>\n",
       "    </tr>\n",
       "    <tr>\n",
       "      <th>North Stonington</th>\n",
       "      <td>40</td>\n",
       "      <td>42</td>\n",
       "      <td>1.050000</td>\n",
       "    </tr>\n",
       "    <tr>\n",
       "      <th>Colebrook</th>\n",
       "      <td>6</td>\n",
       "      <td>6</td>\n",
       "      <td>1.000000</td>\n",
       "    </tr>\n",
       "    <tr>\n",
       "      <th>Scotland</th>\n",
       "      <td>8</td>\n",
       "      <td>8</td>\n",
       "      <td>1.000000</td>\n",
       "    </tr>\n",
       "  </tbody>\n",
       "</table>\n",
       "</div>"
      ],
      "text/plain": [
       "0                 Estimate  Moe     Ratio\n",
       "Town                                     \n",
       "Barkhamsted              0   12       inf\n",
       "Sterling                29   46  1.586207\n",
       "Willington              62   90  1.451613\n",
       "Union                    3    4  1.333333\n",
       "Ellington               39   51  1.307692\n",
       "Canaan                  15   18  1.200000\n",
       "Bethlehem               19   22  1.157895\n",
       "Salem                   18   20  1.111111\n",
       "North Stonington        40   42  1.050000\n",
       "Colebrook                6    6  1.000000\n",
       "Scotland                 8    8  1.000000"
      ]
     },
     "execution_count": 39,
     "metadata": {},
     "output_type": "execute_result"
    }
   ],
   "source": [
    "f85 = females_85plus_raw.copy()\n",
    "\n",
    "# Set header\n",
    "f85.columns = f85.iloc[0]\n",
    "\n",
    "# Remove 'county subdivisions not defined'\n",
    "f85 = f85[ f85['county subdivision'] != '00000' ]\n",
    "\n",
    "# Clean up town names\n",
    "f85.NAME = f85.NAME.apply(lambda x: x.split(' town,')[0])\n",
    "\n",
    "# Set index to town name, and remove NAME row\n",
    "f85 = f85.rename({'B01001_049E': 'Estimate', 'B01001_049M': 'Moe', 'NAME': 'Town'}, axis=1).set_index('Town')\n",
    "f85 = f85.drop(['NAME'])\n",
    "\n",
    "# Calculate Moe to Estiamte ratio\n",
    "f85.Estimate = f85.Estimate.apply(int)\n",
    "f85.Moe = f85.Moe.apply(int)\n",
    "f85['Ratio'] = f85.Moe / f85.Estimate\n",
    "\n",
    "# Print towns with Ratio >= 1\n",
    "f85[ f85.Ratio >= 1.0 ].filter(['Estimate', 'Moe', 'Ratio']).sort_values(['Ratio'], ascending=False)"
   ]
  }
 ],
 "metadata": {
  "kernelspec": {
   "display_name": "Python 3",
   "language": "python",
   "name": "python3"
  },
  "language_info": {
   "codemirror_mode": {
    "name": "ipython",
    "version": 3
   },
   "file_extension": ".py",
   "mimetype": "text/x-python",
   "name": "python",
   "nbconvert_exporter": "python",
   "pygments_lexer": "ipython3",
   "version": "3.7.3"
  }
 },
 "nbformat": 4,
 "nbformat_minor": 4
}
